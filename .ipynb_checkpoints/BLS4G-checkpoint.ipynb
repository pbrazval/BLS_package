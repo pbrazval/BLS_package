{
 "cells": [
  {
   "cell_type": "markdown",
   "id": "c6a3785f",
   "metadata": {},
   "source": [
    "The code below was used to retrieve MSA-level unemployment data, to be used in a research project that required measures of labor tightness.\n",
    "\n",
    "First, we read a dictionary `'msa_tickers.csv'` with tickers for important monthly demographic variables of all American MSAs: Unemployment rate; Total Employment; Total Unemployment; and Labor force."
   ]
  },
  {
   "cell_type": "code",
   "execution_count": 2,
   "id": "f9bb960e",
   "metadata": {},
   "outputs": [],
   "source": [
    "import pandas as pd\n",
    "df = pd.read_csv('msa_tickers.csv')\n",
    "df_subset = df[['unemp_rate', 'msa']]\n",
    "msa_dict = dict(df_subset.values)\n",
    "msa_ticker_list = list(df['unemp_rate'])\n",
    "msa_name_list = list(df['msa'])"
   ]
  },
  {
   "cell_type": "markdown",
   "id": "f6b1fb70",
   "metadata": {},
   "source": [
    "Below, we download the relevant variables for all years between 2010 and 2018. We need to download these lines 50 at a time; otherwise, BLS will block the rest.\n",
    "\n",
    "Don't forget to change the code below to your registration key, which you can get at: https://data.bls.gov/registrationEngine/\n",
    "\n",
    "Also, BLS can calculate annual averages for you automatically. The averages are saved in a JSON subfield called `M13`. "
   ]
  },
  {
   "cell_type": "code",
   "execution_count": 5,
   "id": "a47fd5d6",
   "metadata": {},
   "outputs": [
    {
     "name": "stdout",
     "output_type": "stream",
     "text": [
      "0 lines already downloaded.\n",
      "50 lines already downloaded.\n",
      "100 lines already downloaded.\n",
      "150 lines already downloaded.\n",
      "200 lines already downloaded.\n",
      "250 lines already downloaded.\n",
      "300 lines already downloaded.\n",
      "350 lines already downloaded.\n"
     ]
    }
   ],
   "source": [
    "import requests\n",
    "import json\n",
    "\n",
    "headers = {'Content-type': 'application/json'}\n",
    "json_data = {}\n",
    "maxlen = len(msa_ticker_list)\n",
    "i = 0\n",
    "stop = False\n",
    "while True:\n",
    "    ini = 50*i\n",
    "    print(str(ini)+\" lines already downloaded.\")\n",
    "    end = min(ini+50, maxlen)\n",
    "    sublist = msa_ticker_list[ini:end]\n",
    "    data = json.dumps({\"seriesid\": sublist,\"catalog\": True, \"startyear\":\"2010\", \"endyear\":\"2018\", \"calculations\": True,  \"annualaverage\": True, \"registrationkey\":\"xxxx\"})\n",
    "    p = requests.post('https://api.bls.gov/publicAPI/v2/timeseries/data/', data=data, headers=headers)\n",
    "    json_data[i] = json.loads(p.text)\n",
    "    i = i+1\n",
    "    if ini+50 > maxlen:\n",
    "        break"
   ]
  },
  {
   "cell_type": "markdown",
   "id": "96e0fdd0",
   "metadata": {},
   "source": [
    "Below, I scan the whole JSON file to construct the relevant vectors."
   ]
  },
  {
   "cell_type": "code",
   "execution_count": 7,
   "id": "f6c221c8",
   "metadata": {},
   "outputs": [],
   "source": [
    "import numpy as np\n",
    "msa_vector = []\n",
    "seriesid_vector = []\n",
    "year_vector = []\n",
    "period_vector = []\n",
    "value_vector = []\n",
    "i = 0\n",
    "while True: \n",
    "    my_json_data = json_data[i]\n",
    "    for series in my_json_data['Results']['series']:\n",
    "        for item in series['data']:\n",
    "            msa_vector.append(msa_dict[series['seriesID']])\n",
    "            seriesid_vector.append(series['seriesID'])\n",
    "            year_vector.append(item['year'])\n",
    "            period_vector.append(item['period'])\n",
    "            value_vector.append(item['value'])\n",
    "    i = i+1\n",
    "    if i >= np.ceil(maxlen/50):\n",
    "        break"
   ]
  },
  {
   "cell_type": "markdown",
   "id": "9e2edf54",
   "metadata": {},
   "source": [
    "The results are stored into a dataframe."
   ]
  },
  {
   "cell_type": "code",
   "execution_count": 9,
   "id": "d4af9ed1",
   "metadata": {},
   "outputs": [],
   "source": [
    "output_df = pd.DataFrame({'MSA': msa_vector, 'Year': year_vector, 'Period': period_vector, 'Value': value_vector})"
   ]
  },
  {
   "cell_type": "markdown",
   "id": "201d21cc",
   "metadata": {},
   "source": [
    "I save the whole query output, `output_df`, to a CSV file for further reference."
   ]
  },
  {
   "cell_type": "code",
   "execution_count": 10,
   "id": "9b142801",
   "metadata": {},
   "outputs": [],
   "source": [
    "output_df.to_csv('msa_monthly.csv')"
   ]
  },
  {
   "cell_type": "markdown",
   "id": "f0b4c21d",
   "metadata": {},
   "source": [
    "I also create a CSV file containing only yearly averages, for future reference."
   ]
  },
  {
   "cell_type": "code",
   "execution_count": 11,
   "id": "d78eb42e",
   "metadata": {
    "scrolled": false
   },
   "outputs": [],
   "source": [
    "short_output_df = output_df.query('Period == \\'M13\\' ').drop(columns = 'Period')\n",
    "short_output_df.to_csv('msa_yearly.csv')"
   ]
  }
 ],
 "metadata": {
  "kernelspec": {
   "display_name": "Python 3 (ipykernel)",
   "language": "python",
   "name": "python3"
  },
  "language_info": {
   "codemirror_mode": {
    "name": "ipython",
    "version": 3
   },
   "file_extension": ".py",
   "mimetype": "text/x-python",
   "name": "python",
   "nbconvert_exporter": "python",
   "pygments_lexer": "ipython3",
   "version": "3.8.3"
  }
 },
 "nbformat": 4,
 "nbformat_minor": 5
}
